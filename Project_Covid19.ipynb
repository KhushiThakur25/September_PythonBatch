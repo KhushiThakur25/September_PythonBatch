{
 "cells": [
  {
   "cell_type": "code",
   "execution_count": 1,
   "id": "b8a2cdaa-b360-44bb-af99-6c38684e6cd5",
   "metadata": {
    "tags": []
   },
   "outputs": [],
   "source": [
    "import pandas as pd\n",
    "import numpy as np\n",
    "import matplotlib.pyplot as plt"
   ]
  },
  {
   "cell_type": "code",
   "execution_count": 2,
   "id": "76323a96-e2b8-403d-9ab7-3cd015f02155",
   "metadata": {
    "tags": []
   },
   "outputs": [
    {
     "name": "stdout",
     "output_type": "stream",
     "text": [
      "       Date_reported Country_code      Country WHO_region  New_cases  \\\n",
      "0         2020-01-03           AF  Afghanistan       EMRO          0   \n",
      "1         2020-01-04           AF  Afghanistan       EMRO          0   \n",
      "2         2020-01-05           AF  Afghanistan       EMRO          0   \n",
      "3         2020-01-06           AF  Afghanistan       EMRO          0   \n",
      "4         2020-01-07           AF  Afghanistan       EMRO          0   \n",
      "...              ...          ...          ...        ...        ...   \n",
      "166132    2021-11-29           ZW     Zimbabwe       AFRO         40   \n",
      "166133    2021-11-30           ZW     Zimbabwe       AFRO        235   \n",
      "166134    2021-12-01           ZW     Zimbabwe       AFRO        426   \n",
      "166135    2021-12-02           ZW     Zimbabwe       AFRO        685   \n",
      "166136    2021-12-03           ZW     Zimbabwe       AFRO       1042   \n",
      "\n",
      "        Cumulative_cases  New_deaths  Cumulative_deaths  \n",
      "0                      0           0                  0  \n",
      "1                      0           0                  0  \n",
      "2                      0           0                  0  \n",
      "3                      0           0                  0  \n",
      "4                      0           0                  0  \n",
      "...                  ...         ...                ...  \n",
      "166132            133991           0               4705  \n",
      "166133            134226           1               4706  \n",
      "166134            134652           1               4707  \n",
      "166135            135337           0               4707  \n",
      "166136            136379           0               4707  \n",
      "\n",
      "[166137 rows x 8 columns]\n"
     ]
    }
   ],
   "source": [
    "data = pd.read_csv('WHO-COVID-19-global-data.csv')\n",
    "print(data)"
   ]
  },
  {
   "cell_type": "code",
   "execution_count": 3,
   "id": "bfad072e-6072-4248-9934-8293074fb4a1",
   "metadata": {
    "tags": []
   },
   "outputs": [
    {
     "name": "stdout",
     "output_type": "stream",
     "text": [
      "<class 'pandas.core.frame.DataFrame'>\n",
      "RangeIndex: 166137 entries, 0 to 166136\n",
      "Data columns (total 8 columns):\n",
      " #   Column             Non-Null Count   Dtype \n",
      "---  ------             --------------   ----- \n",
      " 0   Date_reported      166137 non-null  object\n",
      " 1   Country_code       165436 non-null  object\n",
      " 2   Country            166137 non-null  object\n",
      " 3   WHO_region         166137 non-null  object\n",
      " 4   New_cases          166137 non-null  int64 \n",
      " 5   Cumulative_cases   166137 non-null  int64 \n",
      " 6   New_deaths         166137 non-null  int64 \n",
      " 7   Cumulative_deaths  166137 non-null  int64 \n",
      "dtypes: int64(4), object(4)\n",
      "memory usage: 10.1+ MB\n",
      "None\n",
      "           New_cases  Cumulative_cases     New_deaths  Cumulative_deaths\n",
      "count  166137.000000      1.661370e+05  166137.000000      166137.000000\n",
      "mean     1586.423386      4.013239e+05      31.495465        9012.007650\n",
      "std      9402.286406      2.273815e+06     166.962618       44105.235189\n",
      "min    -32952.000000      0.000000e+00   -2371.000000           0.000000\n",
      "25%         0.000000      6.900000e+01       0.000000           0.000000\n",
      "50%        16.000000      5.906000e+03       0.000000          91.000000\n",
      "75%       402.000000      1.024990e+05       6.000000        1761.000000\n",
      "max    414188.000000      4.841326e+07    8786.000000      778336.000000\n"
     ]
    }
   ],
   "source": [
    "print(data.info())\n",
    "print(data.describe())"
   ]
  },
  {
   "cell_type": "code",
   "execution_count": 4,
   "id": "1cbe879e-54cd-407a-a481-a781d7d7eb9c",
   "metadata": {
    "tags": []
   },
   "outputs": [
    {
     "name": "stdout",
     "output_type": "stream",
     "text": [
      "(166137, 8)\n"
     ]
    }
   ],
   "source": [
    "print(data.shape)"
   ]
  },
  {
   "cell_type": "code",
   "execution_count": 5,
   "id": "47faf607-6d09-4977-8c73-c040ee886900",
   "metadata": {
    "tags": []
   },
   "outputs": [
    {
     "data": {
      "text/plain": [
       "pandas.core.series.Series"
      ]
     },
     "execution_count": 5,
     "metadata": {},
     "output_type": "execute_result"
    }
   ],
   "source": [
    "data_cu = data[data.Cumulative_deaths != 0]\n",
    "data_de = data[data.New_deaths != 0]\n",
    "ser_1 = data_cu['Cumulative_deaths']\n",
    "ser_2 = data_de['New_deaths']\n",
    "type(data_cu['Cumulative_deaths'])\n",
    "type(data_de['New_deaths'])"
   ]
  },
  {
   "cell_type": "code",
   "execution_count": 6,
   "id": "f13ce058-3c4e-4671-b7de-096395449305",
   "metadata": {
    "tags": []
   },
   "outputs": [
    {
     "name": "stdout",
     "output_type": "stream",
     "text": [
      "(48821,)\n",
      "(45137,)\n",
      "63643\n",
      "45137\n"
     ]
    }
   ],
   "source": [
    "data_cu_arr = np.array(data_cu['Cumulative_deaths'])\n",
    "data_de_arr = np.array(data_de['New_deaths'])\n",
    "\n",
    "\n",
    "type(data_cu_arr)\n",
    "type(data_de_arr)\n",
    "df = np.where(data_cu_arr > 1000)\n",
    "print(df[0].shape)\n",
    "\n",
    "df1 = np.where(data_de_arr > 4)\n",
    "print(df1[0].shape)\n",
    "death_mean = int(df[0].mean())\n",
    "type(death_mean)\n",
    "print(death_mean)\n",
    "\n",
    "list_di = list(df1[0])\n",
    "print(len(list_di))\n",
    "for i in range(len(list_di)+1,48822):\n",
    "    list_di.append(death_mean)\n",
    "len(list_di)\n",
    "df1 = np.array(list_di)\n",
    "# type(df)\n",
    "# print(df[0])\n",
    "# df = np.where(df[0] > 100)\n",
    "\n",
    "# df1 = np.array(d)\n",
    "# type(df)\n",
    "# print(df[0])\n",
    "# df1 = np.where(df1[0] > 100)\n",
    "# print(df1)"
   ]
  },
  {
   "cell_type": "code",
   "execution_count": null,
   "id": "07f34073-f6cf-4c3c-b214-4e9ceb7322ca",
   "metadata": {},
   "outputs": [],
   "source": [
    "plt.figure(figsize = (5,5))\n",
    "# plt.plot(data.New_deaths,data.Cumulative_deaths)\n",
    "plt.bar(df1,df[0])\n",
    "plt.xlabel(\"New_deaths\")\n",
    "plt.ylabel(\"Cumulative_deaths\")\n",
    "plt.title(\"Death rate\")\n",
    "plt.show()"
   ]
  },
  {
   "cell_type": "code",
   "execution_count": null,
   "id": "354c883b-f8bb-4ccf-8afd-8ba190e43821",
   "metadata": {
    "tags": []
   },
   "outputs": [],
   "source": []
  },
  {
   "cell_type": "code",
   "execution_count": null,
   "id": "67f055a5-375a-4f53-a626-e7d48cd6c7f3",
   "metadata": {
    "tags": []
   },
   "outputs": [],
   "source": []
  },
  {
   "cell_type": "code",
   "execution_count": null,
   "id": "89f62fca-6bad-45b7-b9d5-91f67d0bcffb",
   "metadata": {},
   "outputs": [],
   "source": []
  },
  {
   "cell_type": "code",
   "execution_count": null,
   "id": "10d24e70-de2e-47a5-9c89-a4efda56943e",
   "metadata": {},
   "outputs": [],
   "source": []
  },
  {
   "cell_type": "code",
   "execution_count": null,
   "id": "f103a275-abfe-4a6e-a940-df1583cd73cd",
   "metadata": {},
   "outputs": [],
   "source": []
  }
 ],
 "metadata": {
  "kernelspec": {
   "display_name": "Python 3 (ipykernel)",
   "language": "python",
   "name": "python3"
  },
  "language_info": {
   "codemirror_mode": {
    "name": "ipython",
    "version": 3
   },
   "file_extension": ".py",
   "mimetype": "text/x-python",
   "name": "python",
   "nbconvert_exporter": "python",
   "pygments_lexer": "ipython3",
   "version": "3.11.5"
  }
 },
 "nbformat": 4,
 "nbformat_minor": 5
}
