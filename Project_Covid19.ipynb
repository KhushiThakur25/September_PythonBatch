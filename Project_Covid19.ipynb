{
 "cells": [
  {
   "cell_type": "code",
   "execution_count": 2,
   "id": "b8a2cdaa-b360-44bb-af99-6c38684e6cd5",
   "metadata": {
    "tags": []
   },
   "outputs": [],
   "source": [
    "import pandas as pd\n",
    "import numpy as np"
   ]
  },
  {
   "cell_type": "code",
   "execution_count": 4,
   "id": "76323a96-e2b8-403d-9ab7-3cd015f02155",
   "metadata": {
    "tags": []
   },
   "outputs": [
    {
     "name": "stdout",
     "output_type": "stream",
     "text": [
      "       Date_reported Country_code      Country WHO_region  New_cases  \\\n",
      "0         2020-01-03           AF  Afghanistan       EMRO          0   \n",
      "1         2020-01-04           AF  Afghanistan       EMRO          0   \n",
      "2         2020-01-05           AF  Afghanistan       EMRO          0   \n",
      "3         2020-01-06           AF  Afghanistan       EMRO          0   \n",
      "4         2020-01-07           AF  Afghanistan       EMRO          0   \n",
      "...              ...          ...          ...        ...        ...   \n",
      "166132    2021-11-29           ZW     Zimbabwe       AFRO         40   \n",
      "166133    2021-11-30           ZW     Zimbabwe       AFRO        235   \n",
      "166134    2021-12-01           ZW     Zimbabwe       AFRO        426   \n",
      "166135    2021-12-02           ZW     Zimbabwe       AFRO        685   \n",
      "166136    2021-12-03           ZW     Zimbabwe       AFRO       1042   \n",
      "\n",
      "        Cumulative_cases  New_deaths  Cumulative_deaths  \n",
      "0                      0           0                  0  \n",
      "1                      0           0                  0  \n",
      "2                      0           0                  0  \n",
      "3                      0           0                  0  \n",
      "4                      0           0                  0  \n",
      "...                  ...         ...                ...  \n",
      "166132            133991           0               4705  \n",
      "166133            134226           1               4706  \n",
      "166134            134652           1               4707  \n",
      "166135            135337           0               4707  \n",
      "166136            136379           0               4707  \n",
      "\n",
      "[166137 rows x 8 columns]\n"
     ]
    }
   ],
   "source": [
    "data = pd.read_csv('WHO-COVID-19-global-data.csv')\n",
    "print(data)"
   ]
  },
  {
   "cell_type": "code",
   "execution_count": 7,
   "id": "bfad072e-6072-4248-9934-8293074fb4a1",
   "metadata": {
    "tags": []
   },
   "outputs": [
    {
     "name": "stdout",
     "output_type": "stream",
     "text": [
      "<class 'pandas.core.frame.DataFrame'>\n",
      "RangeIndex: 166137 entries, 0 to 166136\n",
      "Data columns (total 8 columns):\n",
      " #   Column             Non-Null Count   Dtype \n",
      "---  ------             --------------   ----- \n",
      " 0   Date_reported      166137 non-null  object\n",
      " 1   Country_code       165436 non-null  object\n",
      " 2   Country            166137 non-null  object\n",
      " 3   WHO_region         166137 non-null  object\n",
      " 4   New_cases          166137 non-null  int64 \n",
      " 5   Cumulative_cases   166137 non-null  int64 \n",
      " 6   New_deaths         166137 non-null  int64 \n",
      " 7   Cumulative_deaths  166137 non-null  int64 \n",
      "dtypes: int64(4), object(4)\n",
      "memory usage: 10.1+ MB\n",
      "None\n",
      "           New_cases  Cumulative_cases     New_deaths  Cumulative_deaths\n",
      "count  166137.000000      1.661370e+05  166137.000000      166137.000000\n",
      "mean     1586.423386      4.013239e+05      31.495465        9012.007650\n",
      "std      9402.286406      2.273815e+06     166.962618       44105.235189\n",
      "min    -32952.000000      0.000000e+00   -2371.000000           0.000000\n",
      "25%         0.000000      6.900000e+01       0.000000           0.000000\n",
      "50%        16.000000      5.906000e+03       0.000000          91.000000\n",
      "75%       402.000000      1.024990e+05       6.000000        1761.000000\n",
      "max    414188.000000      4.841326e+07    8786.000000      778336.000000\n"
     ]
    }
   ],
   "source": [
    "print(data.info())\n",
    "print(data.describe())"
   ]
  },
  {
   "cell_type": "code",
   "execution_count": 8,
   "id": "1cbe879e-54cd-407a-a481-a781d7d7eb9c",
   "metadata": {
    "tags": []
   },
   "outputs": [
    {
     "name": "stdout",
     "output_type": "stream",
     "text": [
      "(166137, 8)\n"
     ]
    }
   ],
   "source": [
    "print(data.shape)"
   ]
  },
  {
   "cell_type": "code",
   "execution_count": 21,
   "id": "47faf607-6d09-4977-8c73-c040ee886900",
   "metadata": {
    "tags": []
   },
   "outputs": [],
   "source": [
    "df = data[data.Cumulative_deaths != 0]"
   ]
  },
  {
   "cell_type": "code",
   "execution_count": 22,
   "id": "f13ce058-3c4e-4671-b7de-096395449305",
   "metadata": {
    "tags": []
   },
   "outputs": [
    {
     "data": {
      "text/html": [
       "<div>\n",
       "<style scoped>\n",
       "    .dataframe tbody tr th:only-of-type {\n",
       "        vertical-align: middle;\n",
       "    }\n",
       "\n",
       "    .dataframe tbody tr th {\n",
       "        vertical-align: top;\n",
       "    }\n",
       "\n",
       "    .dataframe thead th {\n",
       "        text-align: right;\n",
       "    }\n",
       "</style>\n",
       "<table border=\"1\" class=\"dataframe\">\n",
       "  <thead>\n",
       "    <tr style=\"text-align: right;\">\n",
       "      <th></th>\n",
       "      <th>Date_reported</th>\n",
       "      <th>Country_code</th>\n",
       "      <th>Country</th>\n",
       "      <th>WHO_region</th>\n",
       "      <th>New_cases</th>\n",
       "      <th>Cumulative_cases</th>\n",
       "      <th>New_deaths</th>\n",
       "      <th>Cumulative_deaths</th>\n",
       "    </tr>\n",
       "  </thead>\n",
       "  <tbody>\n",
       "    <tr>\n",
       "      <th>80</th>\n",
       "      <td>2020-03-23</td>\n",
       "      <td>AF</td>\n",
       "      <td>Afghanistan</td>\n",
       "      <td>EMRO</td>\n",
       "      <td>6</td>\n",
       "      <td>40</td>\n",
       "      <td>1</td>\n",
       "      <td>1</td>\n",
       "    </tr>\n",
       "    <tr>\n",
       "      <th>81</th>\n",
       "      <td>2020-03-24</td>\n",
       "      <td>AF</td>\n",
       "      <td>Afghanistan</td>\n",
       "      <td>EMRO</td>\n",
       "      <td>2</td>\n",
       "      <td>42</td>\n",
       "      <td>0</td>\n",
       "      <td>1</td>\n",
       "    </tr>\n",
       "    <tr>\n",
       "      <th>82</th>\n",
       "      <td>2020-03-25</td>\n",
       "      <td>AF</td>\n",
       "      <td>Afghanistan</td>\n",
       "      <td>EMRO</td>\n",
       "      <td>32</td>\n",
       "      <td>74</td>\n",
       "      <td>0</td>\n",
       "      <td>1</td>\n",
       "    </tr>\n",
       "    <tr>\n",
       "      <th>83</th>\n",
       "      <td>2020-03-26</td>\n",
       "      <td>AF</td>\n",
       "      <td>Afghanistan</td>\n",
       "      <td>EMRO</td>\n",
       "      <td>6</td>\n",
       "      <td>80</td>\n",
       "      <td>1</td>\n",
       "      <td>2</td>\n",
       "    </tr>\n",
       "    <tr>\n",
       "      <th>84</th>\n",
       "      <td>2020-03-27</td>\n",
       "      <td>AF</td>\n",
       "      <td>Afghanistan</td>\n",
       "      <td>EMRO</td>\n",
       "      <td>11</td>\n",
       "      <td>91</td>\n",
       "      <td>0</td>\n",
       "      <td>2</td>\n",
       "    </tr>\n",
       "    <tr>\n",
       "      <th>...</th>\n",
       "      <td>...</td>\n",
       "      <td>...</td>\n",
       "      <td>...</td>\n",
       "      <td>...</td>\n",
       "      <td>...</td>\n",
       "      <td>...</td>\n",
       "      <td>...</td>\n",
       "      <td>...</td>\n",
       "    </tr>\n",
       "    <tr>\n",
       "      <th>166132</th>\n",
       "      <td>2021-11-29</td>\n",
       "      <td>ZW</td>\n",
       "      <td>Zimbabwe</td>\n",
       "      <td>AFRO</td>\n",
       "      <td>40</td>\n",
       "      <td>133991</td>\n",
       "      <td>0</td>\n",
       "      <td>4705</td>\n",
       "    </tr>\n",
       "    <tr>\n",
       "      <th>166133</th>\n",
       "      <td>2021-11-30</td>\n",
       "      <td>ZW</td>\n",
       "      <td>Zimbabwe</td>\n",
       "      <td>AFRO</td>\n",
       "      <td>235</td>\n",
       "      <td>134226</td>\n",
       "      <td>1</td>\n",
       "      <td>4706</td>\n",
       "    </tr>\n",
       "    <tr>\n",
       "      <th>166134</th>\n",
       "      <td>2021-12-01</td>\n",
       "      <td>ZW</td>\n",
       "      <td>Zimbabwe</td>\n",
       "      <td>AFRO</td>\n",
       "      <td>426</td>\n",
       "      <td>134652</td>\n",
       "      <td>1</td>\n",
       "      <td>4707</td>\n",
       "    </tr>\n",
       "    <tr>\n",
       "      <th>166135</th>\n",
       "      <td>2021-12-02</td>\n",
       "      <td>ZW</td>\n",
       "      <td>Zimbabwe</td>\n",
       "      <td>AFRO</td>\n",
       "      <td>685</td>\n",
       "      <td>135337</td>\n",
       "      <td>0</td>\n",
       "      <td>4707</td>\n",
       "    </tr>\n",
       "    <tr>\n",
       "      <th>166136</th>\n",
       "      <td>2021-12-03</td>\n",
       "      <td>ZW</td>\n",
       "      <td>Zimbabwe</td>\n",
       "      <td>AFRO</td>\n",
       "      <td>1042</td>\n",
       "      <td>136379</td>\n",
       "      <td>0</td>\n",
       "      <td>4707</td>\n",
       "    </tr>\n",
       "  </tbody>\n",
       "</table>\n",
       "<p>124121 rows × 8 columns</p>\n",
       "</div>"
      ],
      "text/plain": [
       "       Date_reported Country_code      Country WHO_region  New_cases  \\\n",
       "80        2020-03-23           AF  Afghanistan       EMRO          6   \n",
       "81        2020-03-24           AF  Afghanistan       EMRO          2   \n",
       "82        2020-03-25           AF  Afghanistan       EMRO         32   \n",
       "83        2020-03-26           AF  Afghanistan       EMRO          6   \n",
       "84        2020-03-27           AF  Afghanistan       EMRO         11   \n",
       "...              ...          ...          ...        ...        ...   \n",
       "166132    2021-11-29           ZW     Zimbabwe       AFRO         40   \n",
       "166133    2021-11-30           ZW     Zimbabwe       AFRO        235   \n",
       "166134    2021-12-01           ZW     Zimbabwe       AFRO        426   \n",
       "166135    2021-12-02           ZW     Zimbabwe       AFRO        685   \n",
       "166136    2021-12-03           ZW     Zimbabwe       AFRO       1042   \n",
       "\n",
       "        Cumulative_cases  New_deaths  Cumulative_deaths  \n",
       "80                    40           1                  1  \n",
       "81                    42           0                  1  \n",
       "82                    74           0                  1  \n",
       "83                    80           1                  2  \n",
       "84                    91           0                  2  \n",
       "...                  ...         ...                ...  \n",
       "166132            133991           0               4705  \n",
       "166133            134226           1               4706  \n",
       "166134            134652           1               4707  \n",
       "166135            135337           0               4707  \n",
       "166136            136379           0               4707  \n",
       "\n",
       "[124121 rows x 8 columns]"
      ]
     },
     "execution_count": 22,
     "metadata": {},
     "output_type": "execute_result"
    }
   ],
   "source": [
    "print(df)"
   ]
  },
  {
   "cell_type": "code",
   "execution_count": 26,
   "id": "7cb52ba5-cde8-4e3d-bff0-0761d673503c",
   "metadata": {
    "tags": []
   },
   "outputs": [
    {
     "name": "stdout",
     "output_type": "stream",
     "text": [
      "12062.64785974976\n"
     ]
    }
   ],
   "source": [
    "death_mean = df['Cumulative_deaths'].mean()\n",
    "print(death_mean)"
   ]
  },
  {
   "cell_type": "code",
   "execution_count": null,
   "id": "07f34073-f6cf-4c3c-b214-4e9ceb7322ca",
   "metadata": {},
   "outputs": [],
   "source": []
  }
 ],
 "metadata": {
  "kernelspec": {
   "display_name": "Python 3 (ipykernel)",
   "language": "python",
   "name": "python3"
  },
  "language_info": {
   "codemirror_mode": {
    "name": "ipython",
    "version": 3
   },
   "file_extension": ".py",
   "mimetype": "text/x-python",
   "name": "python",
   "nbconvert_exporter": "python",
   "pygments_lexer": "ipython3",
   "version": "3.11.5"
  }
 },
 "nbformat": 4,
 "nbformat_minor": 5
}
